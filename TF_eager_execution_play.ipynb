{
  "nbformat": 4,
  "nbformat_minor": 0,
  "metadata": {
    "colab": {
      "name": "TF eager execution play",
      "version": "0.3.2",
      "provenance": [],
      "collapsed_sections": [],
      "include_colab_link": true
    }
  },
  "cells": [
    {
      "cell_type": "markdown",
      "metadata": {
        "id": "view-in-github",
        "colab_type": "text"
      },
      "source": [
        "[View in Colaboratory](https://colab.research.google.com/github/rouenlee29/simple-AI-models/blob/master/TF_eager_execution_play.ipynb)"
      ]
    },
    {
      "metadata": {
        "id": "FUEgd_K_dxTF",
        "colab_type": "text"
      },
      "cell_type": "markdown",
      "source": [
        "16 Oct 2018. "
      ]
    },
    {
      "metadata": {
        "id": "cdl1GvompH5b",
        "colab_type": "text"
      },
      "cell_type": "markdown",
      "source": [
        "# Simple linear model"
      ]
    },
    {
      "metadata": {
        "id": "V9YvJjnUZ0bb",
        "colab_type": "code",
        "colab": {}
      },
      "cell_type": "code",
      "source": [
        "import tensorflow as tf\n",
        "tfe = tf.contrib.eager\n",
        "tf.enable_eager_execution()"
      ],
      "execution_count": 0,
      "outputs": []
    },
    {
      "metadata": {
        "id": "j8jg_6lPSMMX",
        "colab_type": "code",
        "colab": {}
      },
      "cell_type": "code",
      "source": [
        "class Model(object):\n",
        "  def __init__(self):\n",
        "    self.W = tfe.Variable(5.0)\n",
        "    self.b = tfe.Variable(0.0)\n",
        "    \n",
        "  def __call__(self,x):\n",
        "    return self.W*x + self.b\n",
        "  \n",
        "model = Model()\n",
        "assert model(3.0).numpy() == 15.0"
      ],
      "execution_count": 0,
      "outputs": []
    },
    {
      "metadata": {
        "id": "J5UJpapUZv3u",
        "colab_type": "code",
        "colab": {}
      },
      "cell_type": "code",
      "source": [
        "def loss(predicted_y, desired_y):\n",
        "  return tf.reduce_mean(tf.square(predicted_y-desired_y))"
      ],
      "execution_count": 0,
      "outputs": []
    },
    {
      "metadata": {
        "id": "31i0UEeXa_u-",
        "colab_type": "code",
        "colab": {}
      },
      "cell_type": "code",
      "source": [
        "# synthesize training data with some noise \n",
        "TRUE_W = 3.0\n",
        "TRUE_b = 2.0\n",
        "NUM_EXAMPLES = 1000\n",
        "\n",
        "\n",
        "inputs = tf.random_normal(shape = [NUM_EXAMPLES])\n",
        "noise = tf.random_normal(shape = [NUM_EXAMPLES])\n",
        "outputs = inputs*TRUE_W + TRUE_b + noise "
      ],
      "execution_count": 0,
      "outputs": []
    },
    {
      "metadata": {
        "id": "gXN5khathOad",
        "colab_type": "code",
        "colab": {
          "base_uri": "https://localhost:8080/",
          "height": 34
        },
        "outputId": "648d363d-107b-44d5-dbac-03780b5ec931"
      },
      "cell_type": "code",
      "source": [
        "inputs.shape"
      ],
      "execution_count": 14,
      "outputs": [
        {
          "output_type": "execute_result",
          "data": {
            "text/plain": [
              "TensorShape([Dimension(1000)])"
            ]
          },
          "metadata": {
            "tags": []
          },
          "execution_count": 14
        }
      ]
    },
    {
      "metadata": {
        "id": "PNS6tJimcrAG",
        "colab_type": "code",
        "colab": {
          "base_uri": "https://localhost:8080/",
          "height": 347
        },
        "outputId": "ca0c3ee7-0abb-4b5e-e0b1-33c161a080d4"
      },
      "cell_type": "code",
      "source": [
        "import matplotlib.pyplot as plt \n",
        "\n",
        "plt.scatter(inputs, outputs, c = 'b')\n",
        "plt.scatter(inputs, model(inputs), c = 'r')\n",
        "plt.show()"
      ],
      "execution_count": 16,
      "outputs": [
        {
          "output_type": "display_data",
          "data": {
            "image/png": "[encoded data removed]",
            "text/plain": [
              "<matplotlib.figure.Figure at 0x7f6592bc9dd0>"
            ]
          },
          "metadata": {
            "tags": []
          }
        }
      ]
    },
    {
      "metadata": {
        "id": "E7u6-6dDhgPe",
        "colab_type": "code",
        "colab": {
          "base_uri": "https://localhost:8080/",
          "height": 51
        },
        "outputId": "0f81b9c7-a169-455c-89d9-e8dc99214296"
      },
      "cell_type": "code",
      "source": [
        "print('Current loss: ')\n",
        "print(loss(model(inputs), outputs).numpy())"
      ],
      "execution_count": 17,
      "outputs": [
        {
          "output_type": "stream",
          "text": [
            "Current loss: \n",
            "8.736793\n"
          ],
          "name": "stdout"
        }
      ]
    },
    {
      "metadata": {
        "id": "qvau-_ghhvIE",
        "colab_type": "code",
        "colab": {}
      },
      "cell_type": "code",
      "source": [
        "# Define a training loop \n",
        "\n",
        "def train(model, inputs, outputs, learning_rate):\n",
        "  \n",
        "  # Initialise a GradientTape to track the operations\n",
        "  with tf.GradientTape() as t:\n",
        "    current_loss = loss(model(inputs), outputs)\n",
        "  \n",
        "  dW, db = t.gradient(current_loss, [model.W, model.b])\n",
        "  model.W.assign_sub(learning_rate * dW)\n",
        "  model.b.assign_sub(learning_rate * db)"
      ],
      "execution_count": 0,
      "outputs": []
    },
    {
      "metadata": {
        "id": "V931-_WykZfx",
        "colab_type": "code",
        "colab": {
          "base_uri": "https://localhost:8080/",
          "height": 517
        },
        "outputId": "143fab72-1050-49bd-ac76-408fa52097ce"
      },
      "cell_type": "code",
      "source": [
        "# See the evolution of parameters W and b\n",
        "\n",
        "model = Model()\n",
        "\n",
        "# Collect history of Ws and bs\n",
        "\n",
        "Ws, bs = [], []\n",
        "epochs = range(10)\n",
        "\n",
        "for epoch in epochs:\n",
        "  Ws.append(model.W.numpy())\n",
        "  bs.append(model.b.numpy())\n",
        "  current_loss = loss(model(inputs), outputs)\n",
        "  train(model, inputs, outputs, learning_rate = 0.1)\n",
        "  print('Epoch %2d: W=%1.2f b=%1.2f, loss=%2.5f' %(epoch, Ws[-1], bs[-1], current_loss))\n",
        "  \n",
        "  \n",
        "plt.plot(epochs, Ws, 'r')\n",
        "plt.plot(bs, 'b')\n",
        "plt.plot([TRUE_W]*len(epochs), 'r--')\n",
        "plt.plot([TRUE_b]*len(epochs), 'b--')\n",
        "plt.legend(['W','b','true W', 'true b'])\n",
        "plt.show()"
      ],
      "execution_count": 23,
      "outputs": [
        {
          "output_type": "stream",
          "text": [
            "Epoch  0: W=5.00 b=0.00, loss=8.73679\n",
            "Epoch  1: W=4.62 b=0.39, loss=6.06366\n",
            "Epoch  2: W=4.30 b=0.69, loss=4.31654\n",
            "Epoch  3: W=4.05 b=0.94, loss=3.17451\n",
            "Epoch  4: W=3.84 b=1.14, loss=2.42793\n",
            "Epoch  5: W=3.68 b=1.30, loss=1.93981\n",
            "Epoch  6: W=3.54 b=1.43, loss=1.62064\n",
            "Epoch  7: W=3.43 b=1.54, loss=1.41192\n",
            "Epoch  8: W=3.34 b=1.62, loss=1.27541\n",
            "Epoch  9: W=3.27 b=1.69, loss=1.18612\n"
          ],
          "name": "stdout"
        },
        {
          "output_type": "display_data",
          "data": {
            "image/png": "[encoded data removed]",
            "text/plain": [
              "<matplotlib.figure.Figure at 0x7f658f280a50>"
            ]
          },
          "metadata": {
            "tags": []
          }
        }
      ]
    },
    {
      "metadata": {
        "id": "H6dtV_AGo9YE",
        "colab_type": "text"
      },
      "cell_type": "markdown",
      "source": [
        "# Implementing custom layers"
      ]
    },
    {
      "metadata": {
        "id": "FKNLhsXZo_RA",
        "colab_type": "code",
        "colab": {}
      },
      "cell_type": "code",
      "source": [
        "class MyDenseLayer(tf.keras.layers.Layer):\n",
        "  def __init__(self, num_outputs):\n",
        "    \n",
        "    # line below says: instance of MyDenseLayer inherits from tf.keras.layers.Layer\n",
        "    super(MyDenseLayer, self).__init__()\n",
        "    self.num_outputs = num_outputs\n",
        "    \n",
        "  def build(self, input_shape):\n",
        "    self.kernel = self.add_variable(\"kernel\", \n",
        "                                    shape = [input_shape[-1].value, self.num_outputs])\n",
        "    \n",
        "  def call(self, input):\n",
        "    return tf.matmul(input, self.kernel)    "
      ],
      "execution_count": 0,
      "outputs": []
    },
    {
      "metadata": {
        "id": "vK5QRh4qr7G-",
        "colab_type": "code",
        "colab": {
          "base_uri": "https://localhost:8080/",
          "height": 374
        },
        "outputId": "84a0c6ac-82f1-4859-9716-de744ba42d5e"
      },
      "cell_type": "code",
      "source": [
        "# initialise MyDenseLayer by creating layer object \n",
        "layer = MyDenseLayer(10) \n",
        "\n",
        "# print model output (input multiplied w. kernel)\n",
        "print(layer(tf.ones([10,5])))"
      ],
      "execution_count": 28,
      "outputs": [
        {
          "output_type": "stream",
          "text": [
            "tf.Tensor(\n",
            "[[ 1.0389438  -1.4177135   0.2503317  -0.7425126   1.019496    0.5978415\n",
            "   0.63439167 -0.8662169   1.0713365  -0.84071314]\n",
            " [ 1.0389438  -1.4177135   0.2503317  -0.7425126   1.019496    0.5978415\n",
            "   0.63439167 -0.8662169   1.0713365  -0.84071314]\n",
            " [ 1.0389438  -1.4177135   0.2503317  -0.7425126   1.019496    0.5978415\n",
            "   0.63439167 -0.8662169   1.0713365  -0.84071314]\n",
            " [ 1.0389438  -1.4177135   0.2503317  -0.7425126   1.019496    0.5978415\n",
            "   0.63439167 -0.8662169   1.0713365  -0.84071314]\n",
            " [ 1.0389438  -1.4177135   0.2503317  -0.7425126   1.019496    0.5978415\n",
            "   0.63439167 -0.8662169   1.0713365  -0.84071314]\n",
            " [ 1.0389438  -1.4177135   0.2503317  -0.7425126   1.019496    0.5978415\n",
            "   0.63439167 -0.8662169   1.0713365  -0.84071314]\n",
            " [ 1.0389438  -1.4177135   0.2503317  -0.7425126   1.019496    0.5978415\n",
            "   0.63439167 -0.8662169   1.0713365  -0.84071314]\n",
            " [ 1.0389438  -1.4177135   0.2503317  -0.7425126   1.019496    0.5978415\n",
            "   0.63439167 -0.8662169   1.0713365  -0.84071314]\n",
            " [ 1.0389438  -1.4177135   0.2503317  -0.7425126   1.019496    0.5978415\n",
            "   0.63439167 -0.8662169   1.0713365  -0.8407132 ]\n",
            " [ 1.0389438  -1.4177135   0.2503317  -0.7425126   1.019496    0.5978415\n",
            "   0.63439167 -0.8662169   1.0713365  -0.8407132 ]], shape=(10, 10), dtype=float32)\n"
          ],
          "name": "stdout"
        }
      ]
    },
    {
      "metadata": {
        "id": "JfF9WLtGsO4V",
        "colab_type": "code",
        "colab": {
          "base_uri": "https://localhost:8080/",
          "height": 374
        },
        "outputId": "b722ebcb-9100-496d-e46a-ce6b506a8c6d"
      },
      "cell_type": "code",
      "source": [
        "# print model kernel \n",
        "print(layer.variables)"
      ],
      "execution_count": 29,
      "outputs": [
        {
          "output_type": "stream",
          "text": [
            "[<tf.Variable 'my_dense_layer_1/kernel:0' shape=(5, 10) dtype=float32, numpy=\n",
            "array([[ 3.40251803e-01, -3.46826911e-02,  3.41702104e-01,\n",
            "        -2.40615904e-01, -4.02040362e-01, -2.27524400e-01,\n",
            "         1.15228832e-01,  1.15520179e-01,  5.79630077e-01,\n",
            "         4.64579523e-01],\n",
            "       [ 5.69142282e-01, -3.05928111e-01, -1.51930183e-01,\n",
            "         1.94445610e-01,  5.98992527e-01,  6.16535246e-01,\n",
            "         3.92641842e-01, -1.95206970e-01, -3.60142231e-01,\n",
            "        -6.26584113e-01],\n",
            "       [ 3.32087040e-01, -4.66713071e-01, -3.64952087e-02,\n",
            "        -7.89892077e-02,  6.20965421e-01,  3.33143771e-01,\n",
            "         3.50081861e-01, -3.90362650e-01,  5.75308144e-01,\n",
            "        -4.99264359e-01],\n",
            "       [-2.02527314e-01, -1.66049302e-01,  5.10305583e-01,\n",
            "        -1.65198714e-01,  4.39122319e-02,  1.96616232e-01,\n",
            "        -5.30282438e-01, -1.23844326e-01,  3.33159268e-01,\n",
            "        -1.88540429e-01],\n",
            "       [-9.95397568e-06, -4.44340348e-01, -4.13250625e-01,\n",
            "        -4.52154398e-01,  1.57666206e-01, -3.20929378e-01,\n",
            "         3.06721568e-01, -2.72323102e-01, -5.66186309e-02,\n",
            "         9.09620523e-03]], dtype=float32)>]\n"
          ],
          "name": "stdout"
        }
      ]
    },
    {
      "metadata": {
        "id": "Ppydd8tPs_mS",
        "colab_type": "code",
        "colab": {}
      },
      "cell_type": "code",
      "source": [
        "# input shape is 10 x 5, kernel is 5 x 10, output is 10 x 10"
      ],
      "execution_count": 0,
      "outputs": []
    },
    {
      "metadata": {
        "id": "wpR-lOfe1rQL",
        "colab_type": "text"
      },
      "cell_type": "markdown",
      "source": [
        "# Iris dataset"
      ]
    },
    {
      "metadata": {
        "id": "0HbGySxseljP",
        "colab_type": "text"
      },
      "cell_type": "markdown",
      "source": [
        "Taken from [this](https://www.tensorflow.org/tutorials/eager/custom_training_walkthrough) tutorial, added my personal notes. "
      ]
    },
    {
      "metadata": {
        "id": "jm-IKzO01yf0",
        "colab_type": "code",
        "colab": {
          "base_uri": "https://localhost:8080/",
          "height": 51
        },
        "outputId": "5008a704-3c9e-46ee-f2e8-796975d34c66"
      },
      "cell_type": "code",
      "source": [
        "from __future__ import absolute_import, division, print_function\n",
        "import os \n",
        "import matplotlib.pyplot as plt\n",
        "\n",
        "import tensorflow as tf\n",
        "import tensorflow.contrib.eager as tfe\n",
        "\n",
        "tf.enable_eager_execution()\n",
        "\n",
        "print(\"TensorFlow version: {}\".format(tf.VERSION))\n",
        "print(\"Eager execution: {}\".format(tf.executing_eagerly()))"
      ],
      "execution_count": 159,
      "outputs": [
        {
          "output_type": "stream",
          "text": [
            "TensorFlow version: 1.11.0\n",
            "Eager execution: True\n"
          ],
          "name": "stdout"
        }
      ]
    },
    {
      "metadata": {
        "id": "fOy5DjQU29ez",
        "colab_type": "text"
      },
      "cell_type": "markdown",
      "source": [
        "## Import and parse the training dataset"
      ]
    },
    {
      "metadata": {
        "id": "e-2_mOht3Aa6",
        "colab_type": "code",
        "colab": {
          "base_uri": "https://localhost:8080/",
          "height": 34
        },
        "outputId": "0e743aea-a36d-4d57-9bb6-c879d5a23262"
      },
      "cell_type": "code",
      "source": [
        "train_dataset_url = \"http://download.tensorflow.org/data/iris_training.csv\"\n",
        "\n",
        "train_dataset_fp = tf.keras.utils.get_file(fname=os.path.basename(train_dataset_url),\n",
        "                                           origin=train_dataset_url)\n",
        "\n",
        "print(\"Local copy of the dataset file: {}\".format(train_dataset_fp))"
      ],
      "execution_count": 160,
      "outputs": [
        {
          "output_type": "stream",
          "text": [
            "Local copy of the dataset file: /root/.keras/datasets/iris_training.csv\n"
          ],
          "name": "stdout"
        }
      ]
    },
    {
      "metadata": {
        "id": "9jno1WWn3LYA",
        "colab_type": "code",
        "colab": {
          "base_uri": "https://localhost:8080/",
          "height": 102
        },
        "outputId": "09877098-b71f-4c79-8c26-62b7dc893ddf"
      },
      "cell_type": "code",
      "source": [
        "!head -n5 {train_dataset_fp}"
      ],
      "execution_count": 161,
      "outputs": [
        {
          "output_type": "stream",
          "text": [
            "120,4,setosa,versicolor,virginica\n",
            "6.4,2.8,5.6,2.2,2\n",
            "5.0,2.3,3.3,1.0,1\n",
            "4.9,2.5,4.5,1.7,2\n",
            "4.9,3.1,1.5,0.1,0\n"
          ],
          "name": "stdout"
        }
      ]
    },
    {
      "metadata": {
        "id": "PDq7RIHO3mSh",
        "colab_type": "code",
        "colab": {}
      },
      "cell_type": "code",
      "source": [
        "column_names = ['sepal_length', 'sepal_width', 'petal_length', 'petal_width', 'species']\n",
        "feature_names = column_names[:-1]\n",
        "label_name = column_names[-1]\n",
        "class_names = ['Iris setosa', 'Iris versicolor', 'Iris virginica']"
      ],
      "execution_count": 0,
      "outputs": []
    },
    {
      "metadata": {
        "id": "1_J0zUZo38pW",
        "colab_type": "code",
        "colab": {
          "base_uri": "https://localhost:8080/",
          "height": 204
        },
        "outputId": "9dec0092-ee57-42b3-da9c-1f774a9a375f"
      },
      "cell_type": "code",
      "source": [
        "# View data in pandas \n",
        "import pandas as pd\n",
        "\n",
        "df = pd.read_csv(\"http://download.tensorflow.org/data/iris_training.csv\")\n",
        "df.head()"
      ],
      "execution_count": 163,
      "outputs": [
        {
          "output_type": "execute_result",
          "data": {
            "text/html": [
              "<div>\n",
              "<style scoped>\n",
              "    .dataframe tbody tr th:only-of-type {\n",
              "        vertical-align: middle;\n",
              "    }\n",
              "\n",
              "    .dataframe tbody tr th {\n",
              "        vertical-align: top;\n",
              "    }\n",
              "\n",
              "    .dataframe thead th {\n",
              "        text-align: right;\n",
              "    }\n",
              "</style>\n",
              "<table border=\"1\" class=\"dataframe\">\n",
              "  <thead>\n",
              "    <tr style=\"text-align: right;\">\n",
              "      <th></th>\n",
              "      <th>120</th>\n",
              "      <th>4</th>\n",
              "      <th>setosa</th>\n",
              "      <th>versicolor</th>\n",
              "      <th>virginica</th>\n",
              "    </tr>\n",
              "  </thead>\n",
              "  <tbody>\n",
              "    <tr>\n",
              "      <th>0</th>\n",
              "      <td>6.4</td>\n",
              "      <td>2.8</td>\n",
              "      <td>5.6</td>\n",
              "      <td>2.2</td>\n",
              "      <td>2</td>\n",
              "    </tr>\n",
              "    <tr>\n",
              "      <th>1</th>\n",
              "      <td>5.0</td>\n",
              "      <td>2.3</td>\n",
              "      <td>3.3</td>\n",
              "      <td>1.0</td>\n",
              "      <td>1</td>\n",
              "    </tr>\n",
              "    <tr>\n",
              "      <th>2</th>\n",
              "      <td>4.9</td>\n",
              "      <td>2.5</td>\n",
              "      <td>4.5</td>\n",
              "      <td>1.7</td>\n",
              "      <td>2</td>\n",
              "    </tr>\n",
              "    <tr>\n",
              "      <th>3</th>\n",
              "      <td>4.9</td>\n",
              "      <td>3.1</td>\n",
              "      <td>1.5</td>\n",
              "      <td>0.1</td>\n",
              "      <td>0</td>\n",
              "    </tr>\n",
              "    <tr>\n",
              "      <th>4</th>\n",
              "      <td>5.7</td>\n",
              "      <td>3.8</td>\n",
              "      <td>1.7</td>\n",
              "      <td>0.3</td>\n",
              "      <td>0</td>\n",
              "    </tr>\n",
              "  </tbody>\n",
              "</table>\n",
              "</div>"
            ],
            "text/plain": [
              "   120    4  setosa  versicolor  virginica\n",
              "0  6.4  2.8     5.6         2.2          2\n",
              "1  5.0  2.3     3.3         1.0          1\n",
              "2  4.9  2.5     4.5         1.7          2\n",
              "3  4.9  3.1     1.5         0.1          0\n",
              "4  5.7  3.8     1.7         0.3          0"
            ]
          },
          "metadata": {
            "tags": []
          },
          "execution_count": 163
        }
      ]
    },
    {
      "metadata": {
        "id": "P8MPr9YV5i1r",
        "colab_type": "code",
        "colab": {}
      },
      "cell_type": "code",
      "source": [
        "batch_size = 32\n",
        "\n",
        "train_dataset = tf.contrib.data.make_csv_dataset(\n",
        "    train_dataset_fp,\n",
        "    batch_size, \n",
        "    column_names=column_names,\n",
        "    label_name=label_name,\n",
        "    num_epochs=1)"
      ],
      "execution_count": 0,
      "outputs": []
    },
    {
      "metadata": {
        "id": "JGjrSuJW83bh",
        "colab_type": "text"
      },
      "cell_type": "markdown",
      "source": [
        "The make_csv_dataset function returns a tf.data.Dataset of (features, label) pairs, where features is a dictionary: {'feature_name': value}\n",
        "\n",
        "With eager execution enabled, these Dataset objects are iterable. Let's look at a batch of features:"
      ]
    },
    {
      "metadata": {
        "id": "oUPRq-is84vA",
        "colab_type": "code",
        "colab": {
          "base_uri": "https://localhost:8080/",
          "height": 357
        },
        "outputId": "38ae2d78-4cda-4731-eb65-76a6e03cafed"
      },
      "cell_type": "code",
      "source": [
        "# Quick glance into each batch. dataset objects are iterable \n",
        "\n",
        "features, labels = next(iter(train_dataset))\n",
        "\n",
        "features"
      ],
      "execution_count": 165,
      "outputs": [
        {
          "output_type": "execute_result",
          "data": {
            "text/plain": [
              "OrderedDict([('sepal_length',\n",
              "              <tf.Tensor: id=125476, shape=(32,), dtype=float32, numpy=\n",
              "              array([6.5, 6.1, 5.4, 5. , 5. , 5. , 5.1, 5.3, 4.8, 4.9, 6.4, 4.7, 6.7,\n",
              "                     7.9, 6.9, 5.9, 6.6, 6.4, 6.4, 6.2, 5.7, 6.4, 5.8, 6.4, 6.5, 5. ,\n",
              "                     7.7, 6.9, 6.3, 4.8, 5.7, 6. ], dtype=float32)>),\n",
              "             ('sepal_width',\n",
              "              <tf.Tensor: id=125477, shape=(32,), dtype=float32, numpy=\n",
              "              array([3. , 2.6, 3.4, 3.5, 3.4, 3.3, 2.5, 3.7, 3.4, 3.1, 3.2, 3.2, 3. ,\n",
              "                     3.8, 3.2, 3. , 3. , 2.8, 3.1, 2.8, 2.9, 2.7, 2.7, 2.8, 3.2, 3.2,\n",
              "                     3. , 3.1, 3.3, 3.1, 2.8, 2.9], dtype=float32)>),\n",
              "             ('petal_length',\n",
              "              <tf.Tensor: id=125474, shape=(32,), dtype=float32, numpy=\n",
              "              array([5.2, 5.6, 1.5, 1.3, 1.5, 1.4, 3. , 1.5, 1.6, 1.5, 4.5, 1.3, 5.2,\n",
              "                     6.4, 5.7, 5.1, 4.4, 5.6, 5.5, 4.8, 4.2, 5.3, 4.1, 5.6, 5.1, 1.2,\n",
              "                     6.1, 5.1, 4.7, 1.6, 4.1, 4.5], dtype=float32)>),\n",
              "             ('petal_width',\n",
              "              <tf.Tensor: id=125475, shape=(32,), dtype=float32, numpy=\n",
              "              array([2. , 1.4, 0.4, 0.3, 0.2, 0.2, 1.1, 0.2, 0.2, 0.1, 1.5, 0.2, 2.3,\n",
              "                     2. , 2.3, 1.8, 1.4, 2.1, 1.8, 1.8, 1.3, 1.9, 1. , 2.2, 2. , 0.2,\n",
              "                     2.3, 2.3, 1.6, 0.2, 1.3, 1.5], dtype=float32)>)])"
            ]
          },
          "metadata": {
            "tags": []
          },
          "execution_count": 165
        }
      ]
    },
    {
      "metadata": {
        "id": "7tKotjPTAMjC",
        "colab_type": "code",
        "colab": {
          "base_uri": "https://localhost:8080/",
          "height": 68
        },
        "outputId": "a19b0c42-6b21-4432-f88b-dc105b5fce02"
      },
      "cell_type": "code",
      "source": [
        "labels"
      ],
      "execution_count": 166,
      "outputs": [
        {
          "output_type": "execute_result",
          "data": {
            "text/plain": [
              "<tf.Tensor: id=125478, shape=(32,), dtype=int32, numpy=\n",
              "array([2, 2, 0, 0, 0, 0, 1, 0, 0, 0, 1, 0, 2, 2, 2, 2, 1, 2, 2, 2, 1, 2,\n",
              "       1, 2, 2, 0, 2, 2, 1, 0, 1, 1], dtype=int32)>"
            ]
          },
          "metadata": {
            "tags": []
          },
          "execution_count": 166
        }
      ]
    },
    {
      "metadata": {
        "id": "5P0zl3U09ExK",
        "colab_type": "text"
      },
      "cell_type": "markdown",
      "source": [
        "Notice that each feature is of shape (32,) as we have set the batch size to  32!"
      ]
    },
    {
      "metadata": {
        "id": "y-fgTm3P8_U6",
        "colab_type": "code",
        "colab": {
          "base_uri": "https://localhost:8080/",
          "height": 361
        },
        "outputId": "6b59b369-34a8-4ea4-fb50-8be611247031"
      },
      "cell_type": "code",
      "source": [
        "plt.scatter(features['petal_length'],\n",
        "            features['sepal_length'],\n",
        "            c=labels,\n",
        "           cmap='viridis')\n",
        "\n",
        "plt.xlabel(\"Petal length\")\n",
        "plt.ylabel(\"Sepal length\");"
      ],
      "execution_count": 167,
      "outputs": [
        {
          "output_type": "display_data",
          "data": {
            "image/png": "[encoded data removed]",
            "text/plain": [
              "<matplotlib.figure.Figure at 0x7f658d4c79d0>"
            ]
          },
          "metadata": {
            "tags": []
          }
        }
      ]
    },
    {
      "metadata": {
        "id": "Iij-70OO9hyg",
        "colab_type": "code",
        "colab": {
          "base_uri": "https://localhost:8080/",
          "height": 34
        },
        "outputId": "82e1383a-c421-4ab6-abc8-d196e0667d32"
      },
      "cell_type": "code",
      "source": [
        "len(features)"
      ],
      "execution_count": 168,
      "outputs": [
        {
          "output_type": "execute_result",
          "data": {
            "text/plain": [
              "4"
            ]
          },
          "metadata": {
            "tags": []
          },
          "execution_count": 168
        }
      ]
    },
    {
      "metadata": {
        "id": "-iqk1AMj-zTX",
        "colab_type": "code",
        "colab": {
          "base_uri": "https://localhost:8080/",
          "height": 289
        },
        "outputId": "1e1a49e5-d490-46e3-da63-dfaa13e07e4c"
      },
      "cell_type": "code",
      "source": [
        "features.values()\n",
        "# no longer an ordered dictionary "
      ],
      "execution_count": 169,
      "outputs": [
        {
          "output_type": "execute_result",
          "data": {
            "text/plain": [
              "[<tf.Tensor: id=125476, shape=(32,), dtype=float32, numpy=\n",
              " array([6.5, 6.1, 5.4, 5. , 5. , 5. , 5.1, 5.3, 4.8, 4.9, 6.4, 4.7, 6.7,\n",
              "        7.9, 6.9, 5.9, 6.6, 6.4, 6.4, 6.2, 5.7, 6.4, 5.8, 6.4, 6.5, 5. ,\n",
              "        7.7, 6.9, 6.3, 4.8, 5.7, 6. ], dtype=float32)>,\n",
              " <tf.Tensor: id=125477, shape=(32,), dtype=float32, numpy=\n",
              " array([3. , 2.6, 3.4, 3.5, 3.4, 3.3, 2.5, 3.7, 3.4, 3.1, 3.2, 3.2, 3. ,\n",
              "        3.8, 3.2, 3. , 3. , 2.8, 3.1, 2.8, 2.9, 2.7, 2.7, 2.8, 3.2, 3.2,\n",
              "        3. , 3.1, 3.3, 3.1, 2.8, 2.9], dtype=float32)>,\n",
              " <tf.Tensor: id=125474, shape=(32,), dtype=float32, numpy=\n",
              " array([5.2, 5.6, 1.5, 1.3, 1.5, 1.4, 3. , 1.5, 1.6, 1.5, 4.5, 1.3, 5.2,\n",
              "        6.4, 5.7, 5.1, 4.4, 5.6, 5.5, 4.8, 4.2, 5.3, 4.1, 5.6, 5.1, 1.2,\n",
              "        6.1, 5.1, 4.7, 1.6, 4.1, 4.5], dtype=float32)>,\n",
              " <tf.Tensor: id=125475, shape=(32,), dtype=float32, numpy=\n",
              " array([2. , 1.4, 0.4, 0.3, 0.2, 0.2, 1.1, 0.2, 0.2, 0.1, 1.5, 0.2, 2.3,\n",
              "        2. , 2.3, 1.8, 1.4, 2.1, 1.8, 1.8, 1.3, 1.9, 1. , 2.2, 2. , 0.2,\n",
              "        2.3, 2.3, 1.6, 0.2, 1.3, 1.5], dtype=float32)>]"
            ]
          },
          "metadata": {
            "tags": []
          },
          "execution_count": 169
        }
      ]
    },
    {
      "metadata": {
        "id": "YUy4bwmg_lQe",
        "colab_type": "code",
        "colab": {}
      },
      "cell_type": "code",
      "source": [
        "def pack_features_vector(features, labels):\n",
        "  \"\"\"Pack the features into a single array.\"\"\"\n",
        "  features = tf.stack(list(features.values()), axis=1)\n",
        "  return features, labels"
      ],
      "execution_count": 0,
      "outputs": []
    },
    {
      "metadata": {
        "id": "FAIIfeJ1_pT5",
        "colab_type": "code",
        "colab": {}
      },
      "cell_type": "code",
      "source": [
        "# pack the features of each (features,label) pair into the training dataset:\n",
        "train_dataset = train_dataset.map(pack_features_vector)"
      ],
      "execution_count": 0,
      "outputs": []
    },
    {
      "metadata": {
        "id": "O8qDWSgQAlnj",
        "colab_type": "code",
        "colab": {
          "base_uri": "https://localhost:8080/",
          "height": 34
        },
        "outputId": "8c7e148f-dbcd-40ff-86b5-b5d0f7a6e2ab"
      },
      "cell_type": "code",
      "source": [
        "train_dataset"
      ],
      "execution_count": 172,
      "outputs": [
        {
          "output_type": "execute_result",
          "data": {
            "text/plain": [
              "<MapDataset shapes: ((?, 4), (?,)), types: (tf.float32, tf.int32)>"
            ]
          },
          "metadata": {
            "tags": []
          },
          "execution_count": 172
        }
      ]
    },
    {
      "metadata": {
        "id": "Ubk2y4PnAjpm",
        "colab_type": "code",
        "colab": {
          "base_uri": "https://localhost:8080/",
          "height": 119
        },
        "outputId": "631e9579-7822-453d-a4b1-1e592f41604f"
      },
      "cell_type": "code",
      "source": [
        "features, labels = next(iter(train_dataset))\n",
        "\n",
        "print(features[:5])"
      ],
      "execution_count": 173,
      "outputs": [
        {
          "output_type": "stream",
          "text": [
            "tf.Tensor(\n",
            "[[5.9 3.2 4.8 1.8]\n",
            " [5.4 3.9 1.7 0.4]\n",
            " [5.  3.  1.6 0.2]\n",
            " [5.6 2.9 3.6 1.3]\n",
            " [6.9 3.2 5.7 2.3]], shape=(5, 4), dtype=float32)\n"
          ],
          "name": "stdout"
        }
      ]
    },
    {
      "metadata": {
        "id": "5oay0mg7ArLs",
        "colab_type": "text"
      },
      "cell_type": "markdown",
      "source": [
        "## Select model and do quick tests"
      ]
    },
    {
      "metadata": {
        "id": "4Hr6YOOUAs3g",
        "colab_type": "code",
        "colab": {}
      },
      "cell_type": "code",
      "source": [
        "# select the model\n",
        "\n",
        "model = tf.keras.Sequential([\n",
        "    tf.keras.layers.Dense(10, activation = tf.nn.relu, input_shape = (4,)),\n",
        "    tf.keras.layers.Dense(10, activation = tf.nn.relu),\n",
        "    tf.keras.layers.Dense(3)\n",
        "])"
      ],
      "execution_count": 0,
      "outputs": []
    },
    {
      "metadata": {
        "id": "lScFAHFaYKOa",
        "colab_type": "code",
        "colab": {
          "base_uri": "https://localhost:8080/",
          "height": 238
        },
        "outputId": "c31b784a-a133-4e6c-d69c-3149a060a233"
      },
      "cell_type": "code",
      "source": [
        "model.summary()"
      ],
      "execution_count": 175,
      "outputs": [
        {
          "output_type": "stream",
          "text": [
            "_________________________________________________________________\n",
            "Layer (type)                 Output Shape              Param #   \n",
            "=================================================================\n",
            "dense_15 (Dense)             (None, 10)                50        \n",
            "_________________________________________________________________\n",
            "dense_16 (Dense)             (None, 10)                110       \n",
            "_________________________________________________________________\n",
            "dense_17 (Dense)             (None, 3)                 33        \n",
            "=================================================================\n",
            "Total params: 193\n",
            "Trainable params: 193\n",
            "Non-trainable params: 0\n",
            "_________________________________________________________________\n"
          ],
          "name": "stdout"
        }
      ]
    },
    {
      "metadata": {
        "id": "wUqKd4lNYgNm",
        "colab_type": "text"
      },
      "cell_type": "markdown",
      "source": [
        "Note that a value of None in a particular dimension of a shape means that the shape will dynamically adapt based on the shape of the inputs"
      ]
    },
    {
      "metadata": {
        "id": "_BvzjQG8EbsL",
        "colab_type": "code",
        "colab": {
          "base_uri": "https://localhost:8080/",
          "height": 819
        },
        "outputId": "e393692a-2d4d-474e-b3e8-4307f66c0a09"
      },
      "cell_type": "code",
      "source": [
        "model.trainable_variables"
      ],
      "execution_count": 176,
      "outputs": [
        {
          "output_type": "execute_result",
          "data": {
            "text/plain": [
              "[<tf.Variable 'dense_15/kernel:0' shape=(4, 10) dtype=float32, numpy=\n",
              " array([[ 0.02438164, -0.09056538,  0.29689497,  0.10953385,  0.2824579 ,\n",
              "          0.15639144,  0.05085778, -0.28908622, -0.28075707,  0.3771448 ],\n",
              "        [ 0.08943993,  0.28865057, -0.518607  ,  0.3035013 , -0.5836415 ,\n",
              "          0.3943683 , -0.13628733,  0.40441895, -0.5954354 ,  0.6142278 ],\n",
              "        [ 0.4009664 ,  0.569103  ,  0.37340152, -0.14452314,  0.00680971,\n",
              "          0.6255872 ,  0.06724745,  0.41444898, -0.43996108,  0.08237004],\n",
              "        [ 0.1850037 , -0.5726868 , -0.21961415,  0.3635683 ,  0.42742264,\n",
              "          0.3595091 ,  0.5457792 , -0.5447727 , -0.21800089, -0.59719956]],\n",
              "       dtype=float32)>,\n",
              " <tf.Variable 'dense_15/bias:0' shape=(10,) dtype=float32, numpy=array([0., 0., 0., 0., 0., 0., 0., 0., 0., 0.], dtype=float32)>,\n",
              " <tf.Variable 'dense_16/kernel:0' shape=(10, 10) dtype=float32, numpy=\n",
              " array([[ 0.3119976 , -0.391301  ,  0.04833466,  0.16474313,  0.10254884,\n",
              "         -0.04067701, -0.31948376,  0.30151093, -0.4716729 , -0.47403285],\n",
              "        [-0.22200301,  0.32268083, -0.51852757,  0.40666014, -0.4734059 ,\n",
              "         -0.30636197,  0.11126423,  0.13255882,  0.04747903, -0.45880494],\n",
              "        [ 0.1317147 , -0.53866297,  0.2023316 ,  0.46983945,  0.50528574,\n",
              "         -0.32726142,  0.41081792,  0.4643488 ,  0.17175603,  0.18698919],\n",
              "        [ 0.00265181,  0.3492095 , -0.5066324 ,  0.21923733,  0.03002995,\n",
              "          0.39207137,  0.07741904,  0.50111496,  0.25913668,  0.50096273],\n",
              "        [ 0.10582542, -0.11278388,  0.36497945, -0.03506988, -0.37140393,\n",
              "         -0.06131658,  0.478328  , -0.04459727,  0.09936959,  0.17461747],\n",
              "        [-0.170309  ,  0.43424028, -0.42883843,  0.3645882 , -0.17422661,\n",
              "         -0.2235814 , -0.25851077,  0.37138408, -0.19429332, -0.3333776 ],\n",
              "        [-0.03313297, -0.39466518, -0.38022134, -0.34734678,  0.01368451,\n",
              "         -0.4518154 ,  0.4753474 , -0.22505873,  0.21145415,  0.37234014],\n",
              "        [-0.07284391, -0.1425429 ,  0.446755  , -0.10279748, -0.4225427 ,\n",
              "          0.49784875,  0.07888687, -0.03615087, -0.33585835, -0.0850721 ],\n",
              "        [-0.06082648, -0.08953178,  0.290695  , -0.04602313,  0.27363575,\n",
              "         -0.33884007, -0.4723783 , -0.32507682,  0.07770175,  0.5079316 ],\n",
              "        [-0.1767557 , -0.34368575, -0.16830397, -0.48176765, -0.06496793,\n",
              "         -0.24711218, -0.2919364 ,  0.53209686,  0.14361465,  0.4710269 ]],\n",
              "       dtype=float32)>,\n",
              " <tf.Variable 'dense_16/bias:0' shape=(10,) dtype=float32, numpy=array([0., 0., 0., 0., 0., 0., 0., 0., 0., 0.], dtype=float32)>,\n",
              " <tf.Variable 'dense_17/kernel:0' shape=(10, 3) dtype=float32, numpy=\n",
              " array([[-1.9217172e-01, -6.0944325e-01, -6.1672992e-01],\n",
              "        [ 4.7066915e-01, -1.8334919e-01,  4.4327831e-01],\n",
              "        [-5.7500899e-02,  1.4954388e-02, -5.4542106e-01],\n",
              "        [ 5.8775139e-01, -6.3719302e-01,  4.2458045e-01],\n",
              "        [-4.5686418e-01, -1.7077404e-01, -2.1857616e-01],\n",
              "        [ 2.3177928e-01, -3.8129091e-04,  8.8970602e-02],\n",
              "        [-1.2108010e-01, -2.4102601e-01,  3.1938380e-01],\n",
              "        [ 3.2638967e-01, -2.2853267e-01,  9.1705859e-02],\n",
              "        [-6.3196534e-01, -2.6702881e-05, -7.0431292e-02],\n",
              "        [ 1.4356959e-01,  4.8962963e-01, -6.6782886e-01]], dtype=float32)>,\n",
              " <tf.Variable 'dense_17/bias:0' shape=(3,) dtype=float32, numpy=array([0., 0., 0.], dtype=float32)>]"
            ]
          },
          "metadata": {
            "tags": []
          },
          "execution_count": 176
        }
      ]
    },
    {
      "metadata": {
        "id": "Xa4_qWIwCYWH",
        "colab_type": "code",
        "colab": {
          "base_uri": "https://localhost:8080/",
          "height": 119
        },
        "outputId": "a2b3cbbc-edca-4fb6-faf9-a1c846bf7191"
      },
      "cell_type": "code",
      "source": [
        "# use the model \n",
        "predictions = model(features)\n",
        "\n",
        "# returns logits (unnormalised log probabilities)\n",
        "predictions[:5]"
      ],
      "execution_count": 177,
      "outputs": [
        {
          "output_type": "execute_result",
          "data": {
            "text/plain": [
              "<tf.Tensor: id=125633, shape=(5, 3), dtype=float32, numpy=\n",
              "array([[ 3.4371305 , -2.9100568 ,  1.5849237 ],\n",
              "       [ 2.123835  , -1.2165444 ,  0.48441592],\n",
              "       [ 1.8271852 , -1.1067927 ,  0.36426684],\n",
              "       [ 2.7593498 , -2.2991717 ,  1.2041936 ],\n",
              "       [ 3.9740465 , -3.4195976 ,  1.8489878 ]], dtype=float32)>"
            ]
          },
          "metadata": {
            "tags": []
          },
          "execution_count": 177
        }
      ]
    },
    {
      "metadata": {
        "id": "Vc-OtJEVCjIG",
        "colab_type": "code",
        "colab": {
          "base_uri": "https://localhost:8080/",
          "height": 119
        },
        "outputId": "f37b823d-cb9d-44ae-dbba-c3a08fd26437"
      },
      "cell_type": "code",
      "source": [
        "# use softmax to convert logists to probability \n",
        "tf.nn.softmax(predictions[:5])"
      ],
      "execution_count": 178,
      "outputs": [
        {
          "output_type": "execute_result",
          "data": {
            "text/plain": [
              "<tf.Tensor: id=125639, shape=(5, 3), dtype=float32, numpy=\n",
              "array([[8.63079131e-01, 1.51182769e-03, 1.35408983e-01],\n",
              "       [8.13327968e-01, 2.88109351e-02, 1.57861054e-01],\n",
              "       [7.78364837e-01, 4.13973741e-02, 1.80237800e-01],\n",
              "       [8.21347594e-01, 5.21962298e-03, 1.73432797e-01],\n",
              "       [8.92824352e-01, 5.49220946e-04, 1.06626414e-01]], dtype=float32)>"
            ]
          },
          "metadata": {
            "tags": []
          },
          "execution_count": 178
        }
      ]
    },
    {
      "metadata": {
        "id": "ly5RGIc4C6pW",
        "colab_type": "code",
        "colab": {
          "base_uri": "https://localhost:8080/",
          "height": 51
        },
        "outputId": "e6ae44aa-c698-4db0-8c43-f75e471d8f48"
      },
      "cell_type": "code",
      "source": [
        "# taking tf.argmax gives us the argumest of the largest value \n",
        "print('Predictions: {}'.format(tf.argmax(predictions, axis = 1)))\n",
        "print('Labels: {}'.format(labels))"
      ],
      "execution_count": 179,
      "outputs": [
        {
          "output_type": "stream",
          "text": [
            "Predictions: [0 0 0 0 0 0 0 0 0 0 0 0 0 0 0 0 0 0 0 0 0 0 0 0 0 0 0 0 0 0 0 0]\n",
            "Labels: [1 0 0 1 2 2 0 0 2 1 2 1 2 1 1 0 2 0 0 1 1 2 0 0 0 2 0 1 0 1 2 0]\n"
          ],
          "name": "stdout"
        }
      ]
    },
    {
      "metadata": {
        "id": "hotki6zYDrZZ",
        "colab_type": "text"
      },
      "cell_type": "markdown",
      "source": [
        "## Train the model"
      ]
    },
    {
      "metadata": {
        "id": "yfbeJYvyDtNP",
        "colab_type": "code",
        "colab": {
          "base_uri": "https://localhost:8080/",
          "height": 34
        },
        "outputId": "b421c144-78a8-41eb-bf7b-84312fcf935a"
      },
      "cell_type": "code",
      "source": [
        "# loss function\n",
        "def loss(model,x,y):\n",
        "  y_ = model(x)\n",
        "  return tf.losses.sparse_softmax_cross_entropy(labels=y, logits=y_)\n",
        "\n",
        "\n",
        "l = loss(model, features, labels)\n",
        "print(\"Loss test:{}\".format(l))"
      ],
      "execution_count": 180,
      "outputs": [
        {
          "output_type": "stream",
          "text": [
            "Loss test:2.62295866013\n"
          ],
          "name": "stdout"
        }
      ]
    },
    {
      "metadata": {
        "id": "PpGhSDEXEUUc",
        "colab_type": "code",
        "colab": {}
      },
      "cell_type": "code",
      "source": [
        "def grad(model, inputs, targets):\n",
        "  with tf.GradientTape() as tape:\n",
        "    loss_value = loss(model,inputs, targets)\n",
        "  return loss_value, tape.gradient(loss_value,model.trainable_variables)\n",
        "\n",
        "# trainable_variables is a field of tf.keras.Sequential"
      ],
      "execution_count": 0,
      "outputs": []
    },
    {
      "metadata": {
        "id": "kYceGSfHYq_B",
        "colab_type": "text"
      },
      "cell_type": "markdown",
      "source": [
        "## Optimisation"
      ]
    },
    {
      "metadata": {
        "id": "AIcDVopHYjSY",
        "colab_type": "code",
        "colab": {}
      },
      "cell_type": "code",
      "source": [
        "# An optimizer applies the computed gradients to the model's variables to minimize the loss function\n",
        "\n",
        "optimizer = tf.train.GradientDescentOptimizer(learning_rate = 0.01)\n",
        "global_step = tf.train.get_or_create_global_step()"
      ],
      "execution_count": 0,
      "outputs": []
    },
    {
      "metadata": {
        "id": "5Fbp4nVDZ3IS",
        "colab_type": "code",
        "colab": {
          "base_uri": "https://localhost:8080/",
          "height": 51
        },
        "outputId": "c6826e70-151d-4b60-edb2-5e47852394a8"
      },
      "cell_type": "code",
      "source": [
        "loss_value, grads = grad(model, features, labels)\n",
        "\n",
        "print(\"Step:{}, Initial loss: {}\".format(global_step.numpy(), loss_value.numpy()))\n",
        "\n",
        "optimizer.apply_gradients(zip(grads,model.variables),global_step)\n",
        "\n",
        "print(\"Step:{}, Loss:{}\".format(global_step.numpy(), loss(model, features, labels)))"
      ],
      "execution_count": 183,
      "outputs": [
        {
          "output_type": "stream",
          "text": [
            "Step:847, Initial loss: 2.62295866013\n",
            "Step:848, Loss:2.18608522415\n"
          ],
          "name": "stdout"
        }
      ]
    },
    {
      "metadata": {
        "id": "IDdn0Q1MapGb",
        "colab_type": "code",
        "colab": {
          "base_uri": "https://localhost:8080/",
          "height": 51
        },
        "outputId": "6ee8fa00-d81e-407e-dbd8-f3cb76e6a297"
      },
      "cell_type": "code",
      "source": [
        "# example use of tfe metrics\n",
        "m = tfe.metrics.Mean()\n",
        "for input in [1,2,3]:\n",
        "  m(input)\n",
        "print(m.result())\n",
        "\n",
        "\n",
        "a = tfe.metrics.Accuracy()\n",
        "a([1,2,3,4], [1,2,5,5]) # accuracy of 50%\n",
        "a([1,2],[1,2]) # accuracy of 100%\n",
        "print(a.result()) # 4/6 correct comparisons "
      ],
      "execution_count": 184,
      "outputs": [
        {
          "output_type": "stream",
          "text": [
            "tf.Tensor(2.0, shape=(), dtype=float64)\n",
            "tf.Tensor(0.6666666666666666, shape=(), dtype=float64)\n"
          ],
          "name": "stdout"
        }
      ]
    },
    {
      "metadata": {
        "id": "8a7iNyDSBqHy",
        "colab_type": "code",
        "colab": {
          "base_uri": "https://localhost:8080/",
          "height": 102
        },
        "outputId": "0439abce-bc41-403b-e1e7-c676ec326250"
      },
      "cell_type": "code",
      "source": [
        "total_epochs = 210\n",
        "\n",
        "train_loss_epoch = []\n",
        "train_accuracy_epoch = []\n",
        "\n",
        "\n",
        "for epoch in range(0,total_epochs):\n",
        "  \n",
        "  # for each new epoch, restart the tracking of loss and accuracy\n",
        "  batch_mean = tfe.metrics.Mean()\n",
        "  batch_accuracy = tfe.metrics.Accuracy()\n",
        "  \n",
        "  for x,y in train_dataset:\n",
        "    # forward & backward pass \n",
        "    loss_value, grads = grad(model, x,y)\n",
        "    \n",
        "    # perform update\n",
        "    optimizer.apply_gradients(zip(grads,model.variables), global_step)\n",
        "    \n",
        "    # add current batch loss \n",
        "    batch_mean(loss_value)\n",
        "    \n",
        "    # add current batch accuracy\n",
        "    batch_accuracy(tf.argmax(model(x), axis = 1, output_type = tf.int32),y)\n",
        "    \n",
        "  # end of epoch (cycled through entire dataset): take the...\n",
        "  # aggegrated statistics over all batches\n",
        "  train_loss_epoch.append(batch_mean.result())\n",
        "  train_accuracy_epoch.append(batch_accuracy.result())\n",
        "  \n",
        "  if epoch % 50 == 0:\n",
        "    print(\"Epoch {:03d}: Loss {:.3f}, Accuracy {:.3%}\".format(epoch,batch_mean.result(),batch_accuracy.result()))\n",
        "    "
      ],
      "execution_count": 185,
      "outputs": [
        {
          "output_type": "stream",
          "text": [
            "Epoch 000: Loss 1.716, Accuracy 35.000%\n",
            "Epoch 050: Loss 0.458, Accuracy 92.500%\n",
            "Epoch 100: Loss 0.221, Accuracy 95.000%\n",
            "Epoch 150: Loss 0.150, Accuracy 96.667%\n",
            "Epoch 200: Loss 0.112, Accuracy 99.167%\n"
          ],
          "name": "stdout"
        }
      ]
    },
    {
      "metadata": {
        "id": "1-6wTmJNMeHi",
        "colab_type": "code",
        "colab": {
          "base_uri": "https://localhost:8080/",
          "height": 724
        },
        "outputId": "be336155-b2db-4f81-b046-ad87e11e74eb"
      },
      "cell_type": "code",
      "source": [
        "# Plot the loss for all epochs using Matplotlib\n",
        "plt.figure()\n",
        "plt.plot(range(total_epochs), train_loss_epoch)\n",
        "plt.title('Loss vs epochs')\n",
        "\n",
        "# Plot the accuracy for all epochs using Matplotlib\n",
        "plt.figure()\n",
        "plt.plot(range(total_epochs), train_accuracy_epoch)\n",
        "plt.title('Accuracy vs epochs')"
      ],
      "execution_count": 186,
      "outputs": [
        {
          "output_type": "execute_result",
          "data": {
            "text/plain": [
              "Text(0.5,1,u'Accuracy vs epochs')"
            ]
          },
          "metadata": {
            "tags": []
          },
          "execution_count": 186
        },
        {
          "output_type": "display_data",
          "data": {
            "image/png": "[encoded data removed]",
            "text/plain": [
              "<matplotlib.figure.Figure at 0x7f658f25f8d0>"
            ]
          },
          "metadata": {
            "tags": []
          }
        },
        {
          "output_type": "display_data",
          "data": {
            "image/png": "[encoded data removed]",
            "text/plain": [
              "<matplotlib.figure.Figure at 0x7f658cbb3590>"
            ]
          },
          "metadata": {
            "tags": []
          }
        }
      ]
    },
    {
      "metadata": {
        "id": "3pbFYiraUdoi",
        "colab_type": "text"
      },
      "cell_type": "markdown",
      "source": [
        "## Test the model"
      ]
    },
    {
      "metadata": {
        "id": "ZRh_zKXfNroa",
        "colab_type": "code",
        "colab": {
          "base_uri": "https://localhost:8080/",
          "height": 34
        },
        "outputId": "46b4bc9e-43cf-4fd7-c61b-99fde9d94bd7"
      },
      "cell_type": "code",
      "source": [
        "test_dataset_url = \"http://download.tensorflow.org/data/iris_test.csv\"\n",
        "test_dataset_fp = tf.keras.utils.get_file(fname=os.path.basename(test_dataset_url),\n",
        "                                           origin=test_dataset_url)\n",
        "\n",
        "print(\"Local copy of the dataset file: {}\".format(train_dataset_fp))"
      ],
      "execution_count": 187,
      "outputs": [
        {
          "output_type": "stream",
          "text": [
            "Local copy of the dataset file: /root/.keras/datasets/iris_training.csv\n"
          ],
          "name": "stdout"
        }
      ]
    },
    {
      "metadata": {
        "id": "ItorRfR2Ux2e",
        "colab_type": "code",
        "colab": {
          "base_uri": "https://localhost:8080/",
          "height": 102
        },
        "outputId": "36cf39fa-7b07-4111-ea57-6493ded32979"
      },
      "cell_type": "code",
      "source": [
        "!head -n5 {test_dataset_fp}"
      ],
      "execution_count": 188,
      "outputs": [
        {
          "output_type": "stream",
          "text": [
            "30,4,setosa,versicolor,virginica\n",
            "5.9,3.0,4.2,1.5,1\n",
            "6.9,3.1,5.4,2.1,2\n",
            "5.1,3.3,1.7,0.5,0\n",
            "6.0,3.4,4.5,1.6,1\n"
          ],
          "name": "stdout"
        }
      ]
    },
    {
      "metadata": {
        "id": "BZCt9r_GU4ds",
        "colab_type": "code",
        "colab": {}
      },
      "cell_type": "code",
      "source": [
        "test_dataset = tf.contrib.data.make_csv_dataset(\n",
        "    test_dataset_fp,\n",
        "    batch_size, \n",
        "    column_names=column_names,\n",
        "    label_name=label_name,\n",
        "    num_epochs=1,\n",
        "    shuffle = False)"
      ],
      "execution_count": 0,
      "outputs": []
    },
    {
      "metadata": {
        "id": "50SomS0YWaxi",
        "colab_type": "code",
        "colab": {}
      },
      "cell_type": "code",
      "source": [
        "test_dataset = test_dataset.map(pack_features_vector)"
      ],
      "execution_count": 0,
      "outputs": []
    },
    {
      "metadata": {
        "id": "Nuw2DYToWEZV",
        "colab_type": "code",
        "colab": {
          "base_uri": "https://localhost:8080/",
          "height": 51
        },
        "outputId": "6ddcc932-f35b-4255-dfde-48969424fd82"
      },
      "cell_type": "code",
      "source": [
        "batch_loss = tfe.metrics.Mean()\n",
        "batch_accuracy = tfe.metrics.Accuracy()\n",
        "\n",
        "for x,y in test_dataset:\n",
        "    # forward pass \n",
        "    loss_value = loss(model, x, y)\n",
        "    prediction = tf.argmax(model(x), axis = 1, output_type = tf.int32)\n",
        "    \n",
        "    # add current batch loss \n",
        "    batch_loss(loss_value)\n",
        "    \n",
        "    # add current batch accuracy\n",
        "    batch_accuracy(prediction,y)\n",
        "    \n",
        "print(\"Test set loss is {:.3f}\".format(batch_loss.result()))\n",
        "print(\"Test set accuracy is {:.3%}\".format(batch_accuracy.result()))"
      ],
      "execution_count": 191,
      "outputs": [
        {
          "output_type": "stream",
          "text": [
            "Test set loss is 0.160\n",
            "Test set accuracy is 93.333%\n"
          ],
          "name": "stdout"
        }
      ]
    },
    {
      "metadata": {
        "id": "17BgK_9kZXty",
        "colab_type": "text"
      },
      "cell_type": "markdown",
      "source": [
        "## Making individual predictions "
      ]
    },
    {
      "metadata": {
        "id": "Nds24wH-Y-Bx",
        "colab_type": "code",
        "colab": {
          "base_uri": "https://localhost:8080/",
          "height": 68
        },
        "outputId": "6267f6bd-4e4f-499c-815e-703b70a36b29"
      },
      "cell_type": "code",
      "source": [
        "predict_dataset = tf.convert_to_tensor([\n",
        "    [5.1, 3.3, 1.7, 0.5,],\n",
        "    [5.9, 3.0, 4.2, 1.5,],\n",
        "    [6.9, 3.1, 5.4, 2.1]\n",
        "])\n",
        "\n",
        "predictions = model(predict_dataset)\n",
        "# tf.argmax(model(predict_dataset), axis = 1, output_type = tf.int32)\n",
        "\n",
        "for i,j in enumerate(predictions):\n",
        "  logits = tf.nn.softmax(j)\n",
        "  index = tf.argmax(logits)\n",
        "  p = tf.reduce_max(logits)\n",
        " \n",
        "  print(\"Example {}, prediction {}, probability {:4.1%}\".format(i,class_names[index], p))"
      ],
      "execution_count": 202,
      "outputs": [
        {
          "output_type": "stream",
          "text": [
            "Example 0, prediction Iris setosa, probability 97.0%\n",
            "Example 1, prediction Iris versicolor, probability 88.2%\n",
            "Example 2, prediction Iris virginica, probability 92.6%\n"
          ],
          "name": "stdout"
        }
      ]
    },
    {
      "metadata": {
        "id": "AdeMoX6fZvl9",
        "colab_type": "code",
        "colab": {
          "base_uri": "https://localhost:8080/",
          "height": 204
        },
        "outputId": "852ea49f-c1ae-414f-d8d5-d3007d298761"
      },
      "cell_type": "code",
      "source": [
        "# a note on enumerate on matrices:\n",
        "\n",
        "predictions = model(predict_dataset)\n",
        "print(predictions)\n",
        "print(\"-\"*70)\n",
        "for i,j in enumerate(predictions):\n",
        "  print(i)\n",
        "  print(j)\n",
        " # iterates row by row"
      ],
      "execution_count": 205,
      "outputs": [
        {
          "output_type": "stream",
          "text": [
            "tf.Tensor(\n",
            "[[ 6.0438356  2.5577846 -7.786861 ]\n",
            " [-1.7646556  2.8320196  0.7376523]\n",
            " [-3.9721222  2.118225   4.6527386]], shape=(3, 3), dtype=float32)\n",
            "----------------------------------------------------------------------\n",
            "0\n",
            "tf.Tensor([ 6.0438356  2.5577846 -7.786861 ], shape=(3,), dtype=float32)\n",
            "1\n",
            "tf.Tensor([-1.7646556  2.8320196  0.7376523], shape=(3,), dtype=float32)\n",
            "2\n",
            "tf.Tensor([-3.9721222  2.118225   4.6527386], shape=(3,), dtype=float32)\n"
          ],
          "name": "stdout"
        }
      ]
    }
  ]
}